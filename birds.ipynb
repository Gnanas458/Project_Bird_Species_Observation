{
 "cells": [
  {
   "cell_type": "code",
   "execution_count": 44,
   "id": "9bbd933b",
   "metadata": {},
   "outputs": [],
   "source": [
    "import pandas as pd\n",
    "import numpy as np\n",
    "import matplotlib.pyplot as plt"
   ]
  },
  {
   "cell_type": "code",
   "execution_count": 45,
   "id": "215a1133",
   "metadata": {},
   "outputs": [],
   "source": [
    "forest_file = \"D:\\\\Project_Bird_Species_Observation\\\\Data\\\\Bird_Monitoring_Data_FOREST.xlsx\"\n",
    "grassland_file = \"D:\\\\Project_Bird_Species_Observation\\\\Data\\\\Bird_Monitoring_Data_GRASSLAND.xlsx\""
   ]
  },
  {
   "cell_type": "code",
   "execution_count": 46,
   "id": "7fb0fb31",
   "metadata": {},
   "outputs": [
    {
     "name": "stderr",
     "output_type": "stream",
     "text": [
      "C:\\Users\\Ring\\AppData\\Local\\Temp\\ipykernel_2392\\2257735909.py:2: FutureWarning: The behavior of DataFrame concatenation with empty or all-NA entries is deprecated. In a future version, this will no longer exclude empty or all-NA columns when determining the result dtypes. To retain the old behavior, exclude the relevant entries before the concat operation.\n",
      "  grassland_data = pd.concat(pd.read_excel(grassland_file, sheet_name=None), ignore_index=True)\n"
     ]
    }
   ],
   "source": [
    "forest_data = pd.concat(pd.read_excel(forest_file,sheet_name=None),ignore_index=True)\n",
    "grassland_data = pd.concat(pd.read_excel(grassland_file, sheet_name=None), ignore_index=True)"
   ]
  },
  {
   "cell_type": "code",
   "execution_count": 47,
   "id": "3f766f86",
   "metadata": {},
   "outputs": [],
   "source": [
    "forest_data['Location_Type'] = 'Forest'\n",
    "grassland_data['Location_Type'] = 'Grassland'"
   ]
  },
  {
   "cell_type": "code",
   "execution_count": 48,
   "id": "b4cba9cb",
   "metadata": {},
   "outputs": [],
   "source": [
    "forest_data.drop(\"Site_Name\", axis=1,inplace=True)\n",
    "grassland_data.drop(\"Previously_Obs\", axis=1,inplace=True)"
   ]
  },
  {
   "cell_type": "code",
   "execution_count": 49,
   "id": "378da6fa",
   "metadata": {},
   "outputs": [],
   "source": [
    "forest_data.rename(columns={\"NPSTaxonCode\" : \"TaxonCode\" }, inplace= True)"
   ]
  },
  {
   "cell_type": "code",
   "execution_count": 50,
   "id": "46fcc4ce",
   "metadata": {},
   "outputs": [
    {
     "name": "stdout",
     "output_type": "stream",
     "text": [
      "Index(['Admin_Unit_Code', 'Sub_Unit_Code', 'Plot_Name', 'Location_Type',\n",
      "       'Year', 'Date', 'Start_Time', 'End_Time', 'Observer', 'Visit',\n",
      "       'Interval_Length', 'ID_Method', 'Distance', 'Flyover_Observed', 'Sex',\n",
      "       'Common_Name', 'Scientific_Name', 'AcceptedTSN', 'TaxonCode',\n",
      "       'AOU_Code', 'PIF_Watchlist_Status', 'Regional_Stewardship_Status',\n",
      "       'Temperature', 'Humidity', 'Sky', 'Wind', 'Disturbance',\n",
      "       'Initial_Three_Min_Cnt'],\n",
      "      dtype='object')\n",
      "Index(['Admin_Unit_Code', 'Sub_Unit_Code', 'Plot_Name', 'Location_Type',\n",
      "       'Year', 'Date', 'Start_Time', 'End_Time', 'Observer', 'Visit',\n",
      "       'Interval_Length', 'ID_Method', 'Distance', 'Flyover_Observed', 'Sex',\n",
      "       'Common_Name', 'Scientific_Name', 'AcceptedTSN', 'TaxonCode',\n",
      "       'AOU_Code', 'PIF_Watchlist_Status', 'Regional_Stewardship_Status',\n",
      "       'Temperature', 'Humidity', 'Sky', 'Wind', 'Disturbance',\n",
      "       'Initial_Three_Min_Cnt'],\n",
      "      dtype='object')\n"
     ]
    }
   ],
   "source": [
    "print(grassland_data.columns)\n",
    "print(forest_data.columns)"
   ]
  },
  {
   "cell_type": "code",
   "execution_count": 51,
   "id": "4c0a72fe",
   "metadata": {},
   "outputs": [
    {
     "data": {
      "text/html": [
       "<div>\n",
       "<style scoped>\n",
       "    .dataframe tbody tr th:only-of-type {\n",
       "        vertical-align: middle;\n",
       "    }\n",
       "\n",
       "    .dataframe tbody tr th {\n",
       "        vertical-align: top;\n",
       "    }\n",
       "\n",
       "    .dataframe thead th {\n",
       "        text-align: right;\n",
       "    }\n",
       "</style>\n",
       "<table border=\"1\" class=\"dataframe\">\n",
       "  <thead>\n",
       "    <tr style=\"text-align: right;\">\n",
       "      <th></th>\n",
       "      <th>Admin_Unit_Code</th>\n",
       "      <th>Sub_Unit_Code</th>\n",
       "      <th>Plot_Name</th>\n",
       "      <th>Location_Type</th>\n",
       "      <th>Year</th>\n",
       "      <th>Date</th>\n",
       "      <th>Start_Time</th>\n",
       "      <th>End_Time</th>\n",
       "      <th>Observer</th>\n",
       "      <th>Visit</th>\n",
       "      <th>Interval_Length</th>\n",
       "      <th>ID_Method</th>\n",
       "      <th>Distance</th>\n",
       "      <th>Flyover_Observed</th>\n",
       "      <th>Sex</th>\n",
       "      <th>Common_Name</th>\n",
       "      <th>Scientific_Name</th>\n",
       "      <th>AcceptedTSN</th>\n",
       "      <th>TaxonCode</th>\n",
       "      <th>AOU_Code</th>\n",
       "      <th>PIF_Watchlist_Status</th>\n",
       "      <th>Regional_Stewardship_Status</th>\n",
       "      <th>Temperature</th>\n",
       "      <th>Humidity</th>\n",
       "      <th>Sky</th>\n",
       "      <th>Wind</th>\n",
       "      <th>Disturbance</th>\n",
       "      <th>Initial_Three_Min_Cnt</th>\n",
       "    </tr>\n",
       "  </thead>\n",
       "  <tbody>\n",
       "    <tr>\n",
       "      <th>0</th>\n",
       "      <td>ANTI</td>\n",
       "      <td>NaN</td>\n",
       "      <td>ANTI-0036</td>\n",
       "      <td>Forest</td>\n",
       "      <td>2018</td>\n",
       "      <td>2018-05-22</td>\n",
       "      <td>06:19:00</td>\n",
       "      <td>06:29:00</td>\n",
       "      <td>Elizabeth Oswald</td>\n",
       "      <td>1</td>\n",
       "      <td>0-2.5 min</td>\n",
       "      <td>Singing</td>\n",
       "      <td>&lt;= 50 Meters</td>\n",
       "      <td>False</td>\n",
       "      <td>Undetermined</td>\n",
       "      <td>Eastern Towhee</td>\n",
       "      <td>Pipilo erythrophthalmus</td>\n",
       "      <td>179276.0</td>\n",
       "      <td>83803.0</td>\n",
       "      <td>EATO</td>\n",
       "      <td>False</td>\n",
       "      <td>True</td>\n",
       "      <td>19.9</td>\n",
       "      <td>79.400002</td>\n",
       "      <td>Cloudy/Overcast</td>\n",
       "      <td>Calm (&lt; 1 mph) smoke rises vertically</td>\n",
       "      <td>No effect on count</td>\n",
       "      <td>True</td>\n",
       "    </tr>\n",
       "    <tr>\n",
       "      <th>1</th>\n",
       "      <td>ANTI</td>\n",
       "      <td>NaN</td>\n",
       "      <td>ANTI-0036</td>\n",
       "      <td>Forest</td>\n",
       "      <td>2018</td>\n",
       "      <td>2018-05-22</td>\n",
       "      <td>06:19:00</td>\n",
       "      <td>06:29:00</td>\n",
       "      <td>Elizabeth Oswald</td>\n",
       "      <td>1</td>\n",
       "      <td>0-2.5 min</td>\n",
       "      <td>Calling</td>\n",
       "      <td>&lt;= 50 Meters</td>\n",
       "      <td>False</td>\n",
       "      <td>NaN</td>\n",
       "      <td>White-breasted Nuthatch</td>\n",
       "      <td>Sitta carolinensis</td>\n",
       "      <td>178775.0</td>\n",
       "      <td>90935.0</td>\n",
       "      <td>WBNU</td>\n",
       "      <td>False</td>\n",
       "      <td>False</td>\n",
       "      <td>19.9</td>\n",
       "      <td>79.400002</td>\n",
       "      <td>Cloudy/Overcast</td>\n",
       "      <td>Calm (&lt; 1 mph) smoke rises vertically</td>\n",
       "      <td>No effect on count</td>\n",
       "      <td>True</td>\n",
       "    </tr>\n",
       "    <tr>\n",
       "      <th>2</th>\n",
       "      <td>ANTI</td>\n",
       "      <td>NaN</td>\n",
       "      <td>ANTI-0036</td>\n",
       "      <td>Forest</td>\n",
       "      <td>2018</td>\n",
       "      <td>2018-05-22</td>\n",
       "      <td>06:19:00</td>\n",
       "      <td>06:29:00</td>\n",
       "      <td>Elizabeth Oswald</td>\n",
       "      <td>1</td>\n",
       "      <td>2.5 - 5 min</td>\n",
       "      <td>Calling</td>\n",
       "      <td>50 - 100 Meters</td>\n",
       "      <td>False</td>\n",
       "      <td>NaN</td>\n",
       "      <td>Red-bellied Woodpecker</td>\n",
       "      <td>Melanerpes carolinus</td>\n",
       "      <td>178195.0</td>\n",
       "      <td>84865.0</td>\n",
       "      <td>RBWO</td>\n",
       "      <td>False</td>\n",
       "      <td>False</td>\n",
       "      <td>19.9</td>\n",
       "      <td>79.400002</td>\n",
       "      <td>Cloudy/Overcast</td>\n",
       "      <td>Calm (&lt; 1 mph) smoke rises vertically</td>\n",
       "      <td>No effect on count</td>\n",
       "      <td>False</td>\n",
       "    </tr>\n",
       "    <tr>\n",
       "      <th>3</th>\n",
       "      <td>ANTI</td>\n",
       "      <td>NaN</td>\n",
       "      <td>ANTI-0036</td>\n",
       "      <td>Forest</td>\n",
       "      <td>2018</td>\n",
       "      <td>2018-05-22</td>\n",
       "      <td>06:19:00</td>\n",
       "      <td>06:29:00</td>\n",
       "      <td>Elizabeth Oswald</td>\n",
       "      <td>1</td>\n",
       "      <td>2.5 - 5 min</td>\n",
       "      <td>Singing</td>\n",
       "      <td>&lt;= 50 Meters</td>\n",
       "      <td>False</td>\n",
       "      <td>NaN</td>\n",
       "      <td>Orchard Oriole</td>\n",
       "      <td>Icterus spurius</td>\n",
       "      <td>179064.0</td>\n",
       "      <td>93634.0</td>\n",
       "      <td>OROR</td>\n",
       "      <td>False</td>\n",
       "      <td>False</td>\n",
       "      <td>19.9</td>\n",
       "      <td>79.400002</td>\n",
       "      <td>Cloudy/Overcast</td>\n",
       "      <td>Calm (&lt; 1 mph) smoke rises vertically</td>\n",
       "      <td>No effect on count</td>\n",
       "      <td>False</td>\n",
       "    </tr>\n",
       "    <tr>\n",
       "      <th>4</th>\n",
       "      <td>ANTI</td>\n",
       "      <td>NaN</td>\n",
       "      <td>ANTI-0036</td>\n",
       "      <td>Forest</td>\n",
       "      <td>2018</td>\n",
       "      <td>2018-05-22</td>\n",
       "      <td>06:19:00</td>\n",
       "      <td>06:29:00</td>\n",
       "      <td>Elizabeth Oswald</td>\n",
       "      <td>1</td>\n",
       "      <td>2.5 - 5 min</td>\n",
       "      <td>Visualization</td>\n",
       "      <td>&lt;= 50 Meters</td>\n",
       "      <td>False</td>\n",
       "      <td>NaN</td>\n",
       "      <td>Northern Mockingbird</td>\n",
       "      <td>Mimus polyglottos</td>\n",
       "      <td>178620.0</td>\n",
       "      <td>88394.0</td>\n",
       "      <td>NOMO</td>\n",
       "      <td>False</td>\n",
       "      <td>False</td>\n",
       "      <td>19.9</td>\n",
       "      <td>79.400002</td>\n",
       "      <td>Cloudy/Overcast</td>\n",
       "      <td>Calm (&lt; 1 mph) smoke rises vertically</td>\n",
       "      <td>No effect on count</td>\n",
       "      <td>False</td>\n",
       "    </tr>\n",
       "    <tr>\n",
       "      <th>...</th>\n",
       "      <td>...</td>\n",
       "      <td>...</td>\n",
       "      <td>...</td>\n",
       "      <td>...</td>\n",
       "      <td>...</td>\n",
       "      <td>...</td>\n",
       "      <td>...</td>\n",
       "      <td>...</td>\n",
       "      <td>...</td>\n",
       "      <td>...</td>\n",
       "      <td>...</td>\n",
       "      <td>...</td>\n",
       "      <td>...</td>\n",
       "      <td>...</td>\n",
       "      <td>...</td>\n",
       "      <td>...</td>\n",
       "      <td>...</td>\n",
       "      <td>...</td>\n",
       "      <td>...</td>\n",
       "      <td>...</td>\n",
       "      <td>...</td>\n",
       "      <td>...</td>\n",
       "      <td>...</td>\n",
       "      <td>...</td>\n",
       "      <td>...</td>\n",
       "      <td>...</td>\n",
       "      <td>...</td>\n",
       "      <td>...</td>\n",
       "    </tr>\n",
       "    <tr>\n",
       "      <th>17072</th>\n",
       "      <td>MONO</td>\n",
       "      <td>NaN</td>\n",
       "      <td>MONO-0089</td>\n",
       "      <td>Grassland</td>\n",
       "      <td>2018</td>\n",
       "      <td>2018-05-10</td>\n",
       "      <td>06:35:00</td>\n",
       "      <td>06:46:00</td>\n",
       "      <td>Brian Swimelar</td>\n",
       "      <td>1</td>\n",
       "      <td>2.5 - 5 min</td>\n",
       "      <td>Visualization</td>\n",
       "      <td>50 - 100 Meters</td>\n",
       "      <td>False</td>\n",
       "      <td>Undetermined</td>\n",
       "      <td>European Starling</td>\n",
       "      <td>Sturnus vulgaris</td>\n",
       "      <td>179637.0</td>\n",
       "      <td>86204.0</td>\n",
       "      <td>EUST</td>\n",
       "      <td>False</td>\n",
       "      <td>False</td>\n",
       "      <td>19.0</td>\n",
       "      <td>63.000000</td>\n",
       "      <td>Partly Cloudy</td>\n",
       "      <td>Light air movement (1-3 mph) smoke drifts</td>\n",
       "      <td>Slight effect on count</td>\n",
       "      <td>False</td>\n",
       "    </tr>\n",
       "    <tr>\n",
       "      <th>17073</th>\n",
       "      <td>MONO</td>\n",
       "      <td>NaN</td>\n",
       "      <td>MONO-0089</td>\n",
       "      <td>Grassland</td>\n",
       "      <td>2018</td>\n",
       "      <td>2018-05-10</td>\n",
       "      <td>06:35:00</td>\n",
       "      <td>06:46:00</td>\n",
       "      <td>Brian Swimelar</td>\n",
       "      <td>1</td>\n",
       "      <td>2.5 - 5 min</td>\n",
       "      <td>Visualization</td>\n",
       "      <td>50 - 100 Meters</td>\n",
       "      <td>False</td>\n",
       "      <td>Undetermined</td>\n",
       "      <td>European Starling</td>\n",
       "      <td>Sturnus vulgaris</td>\n",
       "      <td>179637.0</td>\n",
       "      <td>86204.0</td>\n",
       "      <td>EUST</td>\n",
       "      <td>False</td>\n",
       "      <td>False</td>\n",
       "      <td>19.0</td>\n",
       "      <td>63.000000</td>\n",
       "      <td>Partly Cloudy</td>\n",
       "      <td>Light air movement (1-3 mph) smoke drifts</td>\n",
       "      <td>Slight effect on count</td>\n",
       "      <td>False</td>\n",
       "    </tr>\n",
       "    <tr>\n",
       "      <th>17074</th>\n",
       "      <td>MONO</td>\n",
       "      <td>NaN</td>\n",
       "      <td>MONO-0089</td>\n",
       "      <td>Grassland</td>\n",
       "      <td>2018</td>\n",
       "      <td>2018-05-10</td>\n",
       "      <td>06:35:00</td>\n",
       "      <td>06:46:00</td>\n",
       "      <td>Brian Swimelar</td>\n",
       "      <td>1</td>\n",
       "      <td>2.5 - 5 min</td>\n",
       "      <td>Visualization</td>\n",
       "      <td>50 - 100 Meters</td>\n",
       "      <td>False</td>\n",
       "      <td>Undetermined</td>\n",
       "      <td>European Starling</td>\n",
       "      <td>Sturnus vulgaris</td>\n",
       "      <td>179637.0</td>\n",
       "      <td>86204.0</td>\n",
       "      <td>EUST</td>\n",
       "      <td>False</td>\n",
       "      <td>False</td>\n",
       "      <td>19.0</td>\n",
       "      <td>63.000000</td>\n",
       "      <td>Partly Cloudy</td>\n",
       "      <td>Light air movement (1-3 mph) smoke drifts</td>\n",
       "      <td>Slight effect on count</td>\n",
       "      <td>False</td>\n",
       "    </tr>\n",
       "    <tr>\n",
       "      <th>17075</th>\n",
       "      <td>MONO</td>\n",
       "      <td>NaN</td>\n",
       "      <td>MONO-0089</td>\n",
       "      <td>Grassland</td>\n",
       "      <td>2018</td>\n",
       "      <td>2018-05-10</td>\n",
       "      <td>06:35:00</td>\n",
       "      <td>06:46:00</td>\n",
       "      <td>Brian Swimelar</td>\n",
       "      <td>1</td>\n",
       "      <td>2.5 - 5 min</td>\n",
       "      <td>Visualization</td>\n",
       "      <td>50 - 100 Meters</td>\n",
       "      <td>False</td>\n",
       "      <td>Undetermined</td>\n",
       "      <td>European Starling</td>\n",
       "      <td>Sturnus vulgaris</td>\n",
       "      <td>179637.0</td>\n",
       "      <td>86204.0</td>\n",
       "      <td>EUST</td>\n",
       "      <td>False</td>\n",
       "      <td>False</td>\n",
       "      <td>19.0</td>\n",
       "      <td>63.000000</td>\n",
       "      <td>Partly Cloudy</td>\n",
       "      <td>Light air movement (1-3 mph) smoke drifts</td>\n",
       "      <td>Slight effect on count</td>\n",
       "      <td>False</td>\n",
       "    </tr>\n",
       "    <tr>\n",
       "      <th>17076</th>\n",
       "      <td>MONO</td>\n",
       "      <td>NaN</td>\n",
       "      <td>MONO-0089</td>\n",
       "      <td>Grassland</td>\n",
       "      <td>2018</td>\n",
       "      <td>2018-05-10</td>\n",
       "      <td>06:35:00</td>\n",
       "      <td>06:46:00</td>\n",
       "      <td>Brian Swimelar</td>\n",
       "      <td>1</td>\n",
       "      <td>2.5 - 5 min</td>\n",
       "      <td>Visualization</td>\n",
       "      <td>50 - 100 Meters</td>\n",
       "      <td>False</td>\n",
       "      <td>Undetermined</td>\n",
       "      <td>European Starling</td>\n",
       "      <td>Sturnus vulgaris</td>\n",
       "      <td>179637.0</td>\n",
       "      <td>86204.0</td>\n",
       "      <td>EUST</td>\n",
       "      <td>False</td>\n",
       "      <td>False</td>\n",
       "      <td>19.0</td>\n",
       "      <td>63.000000</td>\n",
       "      <td>Partly Cloudy</td>\n",
       "      <td>Light air movement (1-3 mph) smoke drifts</td>\n",
       "      <td>Slight effect on count</td>\n",
       "      <td>False</td>\n",
       "    </tr>\n",
       "  </tbody>\n",
       "</table>\n",
       "<p>17077 rows × 28 columns</p>\n",
       "</div>"
      ],
      "text/plain": [
       "      Admin_Unit_Code Sub_Unit_Code  Plot_Name Location_Type  Year       Date  \\\n",
       "0                ANTI           NaN  ANTI-0036        Forest  2018 2018-05-22   \n",
       "1                ANTI           NaN  ANTI-0036        Forest  2018 2018-05-22   \n",
       "2                ANTI           NaN  ANTI-0036        Forest  2018 2018-05-22   \n",
       "3                ANTI           NaN  ANTI-0036        Forest  2018 2018-05-22   \n",
       "4                ANTI           NaN  ANTI-0036        Forest  2018 2018-05-22   \n",
       "...               ...           ...        ...           ...   ...        ...   \n",
       "17072            MONO           NaN  MONO-0089     Grassland  2018 2018-05-10   \n",
       "17073            MONO           NaN  MONO-0089     Grassland  2018 2018-05-10   \n",
       "17074            MONO           NaN  MONO-0089     Grassland  2018 2018-05-10   \n",
       "17075            MONO           NaN  MONO-0089     Grassland  2018 2018-05-10   \n",
       "17076            MONO           NaN  MONO-0089     Grassland  2018 2018-05-10   \n",
       "\n",
       "      Start_Time  End_Time          Observer Visit Interval_Length  \\\n",
       "0       06:19:00  06:29:00  Elizabeth Oswald     1       0-2.5 min   \n",
       "1       06:19:00  06:29:00  Elizabeth Oswald     1       0-2.5 min   \n",
       "2       06:19:00  06:29:00  Elizabeth Oswald     1     2.5 - 5 min   \n",
       "3       06:19:00  06:29:00  Elizabeth Oswald     1     2.5 - 5 min   \n",
       "4       06:19:00  06:29:00  Elizabeth Oswald     1     2.5 - 5 min   \n",
       "...          ...       ...               ...   ...             ...   \n",
       "17072   06:35:00  06:46:00    Brian Swimelar     1     2.5 - 5 min   \n",
       "17073   06:35:00  06:46:00    Brian Swimelar     1     2.5 - 5 min   \n",
       "17074   06:35:00  06:46:00    Brian Swimelar     1     2.5 - 5 min   \n",
       "17075   06:35:00  06:46:00    Brian Swimelar     1     2.5 - 5 min   \n",
       "17076   06:35:00  06:46:00    Brian Swimelar     1     2.5 - 5 min   \n",
       "\n",
       "           ID_Method         Distance Flyover_Observed           Sex  \\\n",
       "0            Singing     <= 50 Meters            False  Undetermined   \n",
       "1            Calling     <= 50 Meters            False           NaN   \n",
       "2            Calling  50 - 100 Meters            False           NaN   \n",
       "3            Singing     <= 50 Meters            False           NaN   \n",
       "4      Visualization     <= 50 Meters            False           NaN   \n",
       "...              ...              ...              ...           ...   \n",
       "17072  Visualization  50 - 100 Meters            False  Undetermined   \n",
       "17073  Visualization  50 - 100 Meters            False  Undetermined   \n",
       "17074  Visualization  50 - 100 Meters            False  Undetermined   \n",
       "17075  Visualization  50 - 100 Meters            False  Undetermined   \n",
       "17076  Visualization  50 - 100 Meters            False  Undetermined   \n",
       "\n",
       "                   Common_Name          Scientific_Name  AcceptedTSN  \\\n",
       "0               Eastern Towhee  Pipilo erythrophthalmus     179276.0   \n",
       "1      White-breasted Nuthatch       Sitta carolinensis     178775.0   \n",
       "2       Red-bellied Woodpecker     Melanerpes carolinus     178195.0   \n",
       "3               Orchard Oriole          Icterus spurius     179064.0   \n",
       "4         Northern Mockingbird        Mimus polyglottos     178620.0   \n",
       "...                        ...                      ...          ...   \n",
       "17072        European Starling         Sturnus vulgaris     179637.0   \n",
       "17073        European Starling         Sturnus vulgaris     179637.0   \n",
       "17074        European Starling         Sturnus vulgaris     179637.0   \n",
       "17075        European Starling         Sturnus vulgaris     179637.0   \n",
       "17076        European Starling         Sturnus vulgaris     179637.0   \n",
       "\n",
       "       TaxonCode AOU_Code PIF_Watchlist_Status Regional_Stewardship_Status  \\\n",
       "0        83803.0     EATO                False                        True   \n",
       "1        90935.0     WBNU                False                       False   \n",
       "2        84865.0     RBWO                False                       False   \n",
       "3        93634.0     OROR                False                       False   \n",
       "4        88394.0     NOMO                False                       False   \n",
       "...          ...      ...                  ...                         ...   \n",
       "17072    86204.0     EUST                False                       False   \n",
       "17073    86204.0     EUST                False                       False   \n",
       "17074    86204.0     EUST                False                       False   \n",
       "17075    86204.0     EUST                False                       False   \n",
       "17076    86204.0     EUST                False                       False   \n",
       "\n",
       "       Temperature   Humidity              Sky  \\\n",
       "0             19.9  79.400002  Cloudy/Overcast   \n",
       "1             19.9  79.400002  Cloudy/Overcast   \n",
       "2             19.9  79.400002  Cloudy/Overcast   \n",
       "3             19.9  79.400002  Cloudy/Overcast   \n",
       "4             19.9  79.400002  Cloudy/Overcast   \n",
       "...            ...        ...              ...   \n",
       "17072         19.0  63.000000    Partly Cloudy   \n",
       "17073         19.0  63.000000    Partly Cloudy   \n",
       "17074         19.0  63.000000    Partly Cloudy   \n",
       "17075         19.0  63.000000    Partly Cloudy   \n",
       "17076         19.0  63.000000    Partly Cloudy   \n",
       "\n",
       "                                            Wind             Disturbance  \\\n",
       "0          Calm (< 1 mph) smoke rises vertically      No effect on count   \n",
       "1          Calm (< 1 mph) smoke rises vertically      No effect on count   \n",
       "2          Calm (< 1 mph) smoke rises vertically      No effect on count   \n",
       "3          Calm (< 1 mph) smoke rises vertically      No effect on count   \n",
       "4          Calm (< 1 mph) smoke rises vertically      No effect on count   \n",
       "...                                          ...                     ...   \n",
       "17072  Light air movement (1-3 mph) smoke drifts  Slight effect on count   \n",
       "17073  Light air movement (1-3 mph) smoke drifts  Slight effect on count   \n",
       "17074  Light air movement (1-3 mph) smoke drifts  Slight effect on count   \n",
       "17075  Light air movement (1-3 mph) smoke drifts  Slight effect on count   \n",
       "17076  Light air movement (1-3 mph) smoke drifts  Slight effect on count   \n",
       "\n",
       "      Initial_Three_Min_Cnt  \n",
       "0                      True  \n",
       "1                      True  \n",
       "2                     False  \n",
       "3                     False  \n",
       "4                     False  \n",
       "...                     ...  \n",
       "17072                 False  \n",
       "17073                 False  \n",
       "17074                 False  \n",
       "17075                 False  \n",
       "17076                 False  \n",
       "\n",
       "[17077 rows x 28 columns]"
      ]
     },
     "execution_count": 51,
     "metadata": {},
     "output_type": "execute_result"
    }
   ],
   "source": [
    "df = pd.concat([forest_data, grassland_data], ignore_index=True)\n",
    "df"
   ]
  },
  {
   "cell_type": "code",
   "execution_count": 52,
   "id": "1e8d660a",
   "metadata": {},
   "outputs": [
    {
     "name": "stdout",
     "output_type": "stream",
     "text": [
      "(8546, 28)\n",
      "(8531, 28)\n",
      "(17077, 28)\n"
     ]
    }
   ],
   "source": [
    "print(forest_data.shape)\n",
    "print(grassland_data.shape)\n",
    "print(df.shape)"
   ]
  },
  {
   "cell_type": "code",
   "execution_count": 53,
   "id": "64c4a7df",
   "metadata": {},
   "outputs": [
    {
     "data": {
      "text/plain": [
       "Admin_Unit_Code                    0\n",
       "Sub_Unit_Code                  16355\n",
       "Plot_Name                          0\n",
       "Location_Type                      0\n",
       "Year                               0\n",
       "Date                               0\n",
       "Start_Time                         0\n",
       "End_Time                           0\n",
       "Observer                           0\n",
       "Visit                              0\n",
       "Interval_Length                    0\n",
       "ID_Method                          2\n",
       "Distance                        1486\n",
       "Flyover_Observed                   0\n",
       "Sex                             5183\n",
       "Common_Name                        0\n",
       "Scientific_Name                    0\n",
       "AcceptedTSN                       33\n",
       "TaxonCode                          2\n",
       "AOU_Code                           0\n",
       "PIF_Watchlist_Status               0\n",
       "Regional_Stewardship_Status        0\n",
       "Temperature                        0\n",
       "Humidity                           0\n",
       "Sky                                0\n",
       "Wind                               0\n",
       "Disturbance                        0\n",
       "Initial_Three_Min_Cnt              0\n",
       "dtype: int64"
      ]
     },
     "execution_count": 53,
     "metadata": {},
     "output_type": "execute_result"
    }
   ],
   "source": [
    "df.isna().sum()"
   ]
  },
  {
   "cell_type": "code",
   "execution_count": 54,
   "id": "438fba17",
   "metadata": {},
   "outputs": [],
   "source": [
    "df.drop(columns=[\"Sub_Unit_Code\"], axis=1, inplace=True)"
   ]
  },
  {
   "cell_type": "code",
   "execution_count": 55,
   "id": "5344536b",
   "metadata": {},
   "outputs": [
    {
     "data": {
      "text/plain": [
       "Index(['admin_unit_code', 'plot_name', 'location_type', 'year', 'date',\n",
       "       'start_time', 'end_time', 'observer', 'visit', 'interval_length',\n",
       "       'id_method', 'distance', 'flyover_observed', 'sex', 'common_name',\n",
       "       'scientific_name', 'acceptedtsn', 'taxoncode', 'aou_code',\n",
       "       'pif_watchlist_status', 'regional_stewardship_status', 'temperature',\n",
       "       'humidity', 'sky', 'wind', 'disturbance', 'initial_three_min_cnt'],\n",
       "      dtype='object')"
      ]
     },
     "execution_count": 55,
     "metadata": {},
     "output_type": "execute_result"
    }
   ],
   "source": [
    "df.columns = df.columns.str.lower()\n",
    "df.columns"
   ]
  },
  {
   "cell_type": "code",
   "execution_count": 56,
   "id": "b557df28",
   "metadata": {},
   "outputs": [
    {
     "name": "stdout",
     "output_type": "stream",
     "text": [
      "(17077, 27)\n"
     ]
    },
    {
     "data": {
      "text/plain": [
       "(1705, 27)"
      ]
     },
     "execution_count": 56,
     "metadata": {},
     "output_type": "execute_result"
    }
   ],
   "source": [
    "print(df.shape)\n",
    "df[df.duplicated()].shape"
   ]
  },
  {
   "cell_type": "code",
   "execution_count": 57,
   "id": "08fc3e9e",
   "metadata": {},
   "outputs": [
    {
     "data": {
      "text/plain": [
       "(15372, 27)"
      ]
     },
     "execution_count": 57,
     "metadata": {},
     "output_type": "execute_result"
    }
   ],
   "source": [
    "df.drop_duplicates(inplace=True)\n",
    "df.shape"
   ]
  },
  {
   "cell_type": "code",
   "execution_count": 58,
   "id": "899de2be",
   "metadata": {},
   "outputs": [],
   "source": [
    "pd.set_option('display.max_columns', 200)"
   ]
  },
  {
   "cell_type": "code",
   "execution_count": 59,
   "id": "8ec683f6",
   "metadata": {},
   "outputs": [
    {
     "name": "stdout",
     "output_type": "stream",
     "text": [
      "<class 'pandas.core.frame.DataFrame'>\n",
      "Index: 15372 entries, 0 to 17067\n",
      "Data columns (total 27 columns):\n",
      " #   Column                       Non-Null Count  Dtype         \n",
      "---  ------                       --------------  -----         \n",
      " 0   admin_unit_code              15372 non-null  object        \n",
      " 1   plot_name                    15372 non-null  object        \n",
      " 2   location_type                15372 non-null  object        \n",
      " 3   year                         15372 non-null  object        \n",
      " 4   date                         15372 non-null  datetime64[ns]\n",
      " 5   start_time                   15372 non-null  object        \n",
      " 6   end_time                     15372 non-null  object        \n",
      " 7   observer                     15372 non-null  object        \n",
      " 8   visit                        15372 non-null  object        \n",
      " 9   interval_length              15372 non-null  object        \n",
      " 10  id_method                    15370 non-null  object        \n",
      " 11  distance                     14683 non-null  object        \n",
      " 12  flyover_observed             15372 non-null  object        \n",
      " 13  sex                          10189 non-null  object        \n",
      " 14  common_name                  15372 non-null  object        \n",
      " 15  scientific_name              15372 non-null  object        \n",
      " 16  acceptedtsn                  15344 non-null  float64       \n",
      " 17  taxoncode                    15370 non-null  float64       \n",
      " 18  aou_code                     15372 non-null  object        \n",
      " 19  pif_watchlist_status         15372 non-null  object        \n",
      " 20  regional_stewardship_status  15372 non-null  object        \n",
      " 21  temperature                  15372 non-null  float64       \n",
      " 22  humidity                     15372 non-null  float64       \n",
      " 23  sky                          15372 non-null  object        \n",
      " 24  wind                         15372 non-null  object        \n",
      " 25  disturbance                  15372 non-null  object        \n",
      " 26  initial_three_min_cnt        15372 non-null  object        \n",
      "dtypes: datetime64[ns](1), float64(4), object(22)\n",
      "memory usage: 3.3+ MB\n"
     ]
    }
   ],
   "source": [
    "df.info()"
   ]
  },
  {
   "cell_type": "code",
   "execution_count": 60,
   "id": "fc7e83f3",
   "metadata": {},
   "outputs": [
    {
     "data": {
      "text/plain": [
       "admin_unit_code                   0\n",
       "plot_name                         0\n",
       "location_type                     0\n",
       "year                              0\n",
       "date                              0\n",
       "start_time                        0\n",
       "end_time                          0\n",
       "observer                          0\n",
       "visit                             0\n",
       "interval_length                   0\n",
       "id_method                         2\n",
       "distance                        689\n",
       "flyover_observed                  0\n",
       "sex                            5183\n",
       "common_name                       0\n",
       "scientific_name                   0\n",
       "acceptedtsn                      28\n",
       "taxoncode                         2\n",
       "aou_code                          0\n",
       "pif_watchlist_status              0\n",
       "regional_stewardship_status       0\n",
       "temperature                       0\n",
       "humidity                          0\n",
       "sky                               0\n",
       "wind                              0\n",
       "disturbance                       0\n",
       "initial_three_min_cnt             0\n",
       "dtype: int64"
      ]
     },
     "execution_count": 60,
     "metadata": {},
     "output_type": "execute_result"
    }
   ],
   "source": [
    "df.isna().sum()"
   ]
  },
  {
   "cell_type": "code",
   "execution_count": 61,
   "id": "8a2a26ed",
   "metadata": {},
   "outputs": [],
   "source": [
    "# Convert times\n",
    "df[\"date\"] = pd.to_datetime(df[\"date\"], errors='coerce')"
   ]
  },
  {
   "cell_type": "code",
   "execution_count": 62,
   "id": "0e223641",
   "metadata": {},
   "outputs": [],
   "source": [
    "# Convert datatypes\n",
    "df[\"year\"] = pd.to_numeric(df[\"year\"], errors='coerce')\n",
    "df[\"visit\"] = pd.to_numeric(df[\"visit\"], errors='coerce')\n",
    "df[\"initial_three_min_cnt\"] = pd.to_numeric(df[\"initial_three_min_cnt\"], errors='coerce')"
   ]
  },
  {
   "cell_type": "code",
   "execution_count": 63,
   "id": "c2fa56e6",
   "metadata": {},
   "outputs": [],
   "source": [
    "# Add month and season\n",
    "df[\"month\"] = df[\"date\"].dt.month\n",
    "def get_season(m):\n",
    "    return ('winter' if m in [12, 1, 2] else\n",
    "            'spring' if m in [3, 4, 5] else\n",
    "            'summer' if m in [6, 7, 8] else 'Fall')\n",
    "df[\"season\"] = df[\"month\"].apply(get_season)\n"
   ]
  },
  {
   "cell_type": "code",
   "execution_count": 64,
   "id": "267a408c",
   "metadata": {},
   "outputs": [
    {
     "name": "stderr",
     "output_type": "stream",
     "text": [
      "C:\\Users\\Ring\\AppData\\Local\\Temp\\ipykernel_2392\\1878094693.py:3: FutureWarning: Downcasting object dtype arrays on .fillna, .ffill, .bfill is deprecated and will change in a future version. Call result.infer_objects(copy=False) instead. To opt-in to the future behavior, set `pd.set_option('future.no_silent_downcasting', True)`\n",
      "  df[col] = df[col].fillna('unknown')\n"
     ]
    }
   ],
   "source": [
    "object_cols = df.select_dtypes(include=['object']).columns\n",
    "for col in object_cols:\n",
    "        df[col] = df[col].fillna('unknown')"
   ]
  },
  {
   "cell_type": "code",
   "execution_count": 65,
   "id": "d95b9de3",
   "metadata": {},
   "outputs": [
    {
     "data": {
      "text/plain": [
       "array(['Forest', 'Grassland'], dtype=object)"
      ]
     },
     "execution_count": 65,
     "metadata": {},
     "output_type": "execute_result"
    }
   ],
   "source": [
    "df[\"location_type\"].unique()"
   ]
  },
  {
   "cell_type": "code",
   "execution_count": 66,
   "id": "a5512f0b",
   "metadata": {},
   "outputs": [
    {
     "data": {
      "text/plain": [
       "(15372, 29)"
      ]
     },
     "execution_count": 66,
     "metadata": {},
     "output_type": "execute_result"
    }
   ],
   "source": [
    "df.shape"
   ]
  },
  {
   "cell_type": "code",
   "execution_count": 67,
   "id": "8299d3ca",
   "metadata": {},
   "outputs": [
    {
     "data": {
      "text/plain": [
       "(8546, 29)"
      ]
     },
     "execution_count": 67,
     "metadata": {},
     "output_type": "execute_result"
    }
   ],
   "source": [
    "forest_df = df[df[\"location_type\"] == \"Forest\"].copy()\n",
    "forest_df.shape"
   ]
  },
  {
   "cell_type": "code",
   "execution_count": 68,
   "id": "c98c6a08",
   "metadata": {},
   "outputs": [
    {
     "data": {
      "text/plain": [
       "(6826, 29)"
      ]
     },
     "execution_count": 68,
     "metadata": {},
     "output_type": "execute_result"
    }
   ],
   "source": [
    "grass_df = df[df[\"location_type\"] == \"Grassland\"].copy()\n",
    "grass_df.shape"
   ]
  },
  {
   "cell_type": "code",
   "execution_count": 69,
   "id": "271a9e84",
   "metadata": {},
   "outputs": [
    {
     "data": {
      "text/plain": [
       "Index(['admin_unit_code', 'plot_name', 'location_type', 'year', 'date',\n",
       "       'start_time', 'end_time', 'observer', 'visit', 'interval_length',\n",
       "       'id_method', 'distance', 'flyover_observed', 'sex', 'common_name',\n",
       "       'scientific_name', 'acceptedtsn', 'taxoncode', 'aou_code',\n",
       "       'pif_watchlist_status', 'regional_stewardship_status', 'temperature',\n",
       "       'humidity', 'sky', 'wind', 'disturbance', 'initial_three_min_cnt',\n",
       "       'month', 'season'],\n",
       "      dtype='object')"
      ]
     },
     "execution_count": 69,
     "metadata": {},
     "output_type": "execute_result"
    }
   ],
   "source": [
    "forest_df.columns"
   ]
  },
  {
   "cell_type": "code",
   "execution_count": 70,
   "id": "a32bd5f5",
   "metadata": {},
   "outputs": [],
   "source": [
    "forest_df['temperature'] = forest_df['temperature'].fillna(forest_df['temperature'].mean())\n",
    "forest_df['humidity'] = forest_df['humidity'].fillna(forest_df['humidity'].median())"
   ]
  },
  {
   "cell_type": "code",
   "execution_count": 71,
   "id": "b5a45c8f",
   "metadata": {},
   "outputs": [],
   "source": [
    "grass_df['temperature'] = grass_df['temperature'].fillna(grass_df['temperature'].mean())\n",
    "grass_df['humidity'] = grass_df['humidity'].fillna(grass_df['humidity'].median())"
   ]
  },
  {
   "cell_type": "code",
   "execution_count": 72,
   "id": "ca30fb06",
   "metadata": {},
   "outputs": [],
   "source": [
    "final_cleaned_data = pd.concat([forest_df, grass_df], ignore_index=True)"
   ]
  },
  {
   "cell_type": "code",
   "execution_count": 73,
   "id": "b527ada7",
   "metadata": {},
   "outputs": [
    {
     "data": {
      "text/plain": [
       "(15372, 29)"
      ]
     },
     "execution_count": 73,
     "metadata": {},
     "output_type": "execute_result"
    }
   ],
   "source": [
    "final_cleaned_data.shape"
   ]
  },
  {
   "cell_type": "code",
   "execution_count": 74,
   "id": "31defd5f",
   "metadata": {},
   "outputs": [
    {
     "data": {
      "text/plain": [
       "admin_unit_code                 0\n",
       "plot_name                       0\n",
       "location_type                   0\n",
       "year                            0\n",
       "date                            0\n",
       "start_time                      0\n",
       "end_time                        0\n",
       "observer                        0\n",
       "visit                           0\n",
       "interval_length                 0\n",
       "id_method                       0\n",
       "distance                        0\n",
       "flyover_observed                0\n",
       "sex                             0\n",
       "common_name                     0\n",
       "scientific_name                 0\n",
       "acceptedtsn                    28\n",
       "taxoncode                       2\n",
       "aou_code                        0\n",
       "pif_watchlist_status            0\n",
       "regional_stewardship_status     0\n",
       "temperature                     0\n",
       "humidity                        0\n",
       "sky                             0\n",
       "wind                            0\n",
       "disturbance                     0\n",
       "initial_three_min_cnt           0\n",
       "month                           0\n",
       "season                          0\n",
       "dtype: int64"
      ]
     },
     "execution_count": 74,
     "metadata": {},
     "output_type": "execute_result"
    }
   ],
   "source": [
    "final_cleaned_data.isnull().sum()"
   ]
  },
  {
   "cell_type": "code",
   "execution_count": 75,
   "id": "d74161a1",
   "metadata": {},
   "outputs": [],
   "source": [
    "final_cleaned_data = final_cleaned_data.dropna()"
   ]
  },
  {
   "cell_type": "code",
   "execution_count": 76,
   "id": "09ab364b",
   "metadata": {},
   "outputs": [
    {
     "data": {
      "text/plain": [
       "admin_unit_code                0\n",
       "plot_name                      0\n",
       "location_type                  0\n",
       "year                           0\n",
       "date                           0\n",
       "start_time                     0\n",
       "end_time                       0\n",
       "observer                       0\n",
       "visit                          0\n",
       "interval_length                0\n",
       "id_method                      0\n",
       "distance                       0\n",
       "flyover_observed               0\n",
       "sex                            0\n",
       "common_name                    0\n",
       "scientific_name                0\n",
       "acceptedtsn                    0\n",
       "taxoncode                      0\n",
       "aou_code                       0\n",
       "pif_watchlist_status           0\n",
       "regional_stewardship_status    0\n",
       "temperature                    0\n",
       "humidity                       0\n",
       "sky                            0\n",
       "wind                           0\n",
       "disturbance                    0\n",
       "initial_three_min_cnt          0\n",
       "month                          0\n",
       "season                         0\n",
       "dtype: int64"
      ]
     },
     "execution_count": 76,
     "metadata": {},
     "output_type": "execute_result"
    }
   ],
   "source": [
    "final_cleaned_data.isna().sum()"
   ]
  },
  {
   "cell_type": "code",
   "execution_count": 77,
   "id": "55f00795",
   "metadata": {},
   "outputs": [
    {
     "data": {
      "text/plain": [
       "(15342, 29)"
      ]
     },
     "execution_count": 77,
     "metadata": {},
     "output_type": "execute_result"
    }
   ],
   "source": [
    "final_cleaned_data.shape"
   ]
  },
  {
   "cell_type": "code",
   "execution_count": 78,
   "id": "74bd0204",
   "metadata": {},
   "outputs": [
    {
     "data": {
      "text/html": [
       "<div>\n",
       "<style scoped>\n",
       "    .dataframe tbody tr th:only-of-type {\n",
       "        vertical-align: middle;\n",
       "    }\n",
       "\n",
       "    .dataframe tbody tr th {\n",
       "        vertical-align: top;\n",
       "    }\n",
       "\n",
       "    .dataframe thead th {\n",
       "        text-align: right;\n",
       "    }\n",
       "</style>\n",
       "<table border=\"1\" class=\"dataframe\">\n",
       "  <thead>\n",
       "    <tr style=\"text-align: right;\">\n",
       "      <th></th>\n",
       "      <th>admin_unit_code</th>\n",
       "      <th>plot_name</th>\n",
       "      <th>location_type</th>\n",
       "      <th>year</th>\n",
       "      <th>date</th>\n",
       "      <th>start_time</th>\n",
       "      <th>end_time</th>\n",
       "      <th>observer</th>\n",
       "      <th>visit</th>\n",
       "      <th>interval_length</th>\n",
       "      <th>id_method</th>\n",
       "      <th>distance</th>\n",
       "      <th>flyover_observed</th>\n",
       "      <th>sex</th>\n",
       "      <th>common_name</th>\n",
       "      <th>scientific_name</th>\n",
       "      <th>acceptedtsn</th>\n",
       "      <th>taxoncode</th>\n",
       "      <th>aou_code</th>\n",
       "      <th>pif_watchlist_status</th>\n",
       "      <th>regional_stewardship_status</th>\n",
       "      <th>temperature</th>\n",
       "      <th>humidity</th>\n",
       "      <th>sky</th>\n",
       "      <th>wind</th>\n",
       "      <th>disturbance</th>\n",
       "      <th>initial_three_min_cnt</th>\n",
       "      <th>month</th>\n",
       "      <th>season</th>\n",
       "    </tr>\n",
       "  </thead>\n",
       "  <tbody>\n",
       "    <tr>\n",
       "      <th>0</th>\n",
       "      <td>ANTI</td>\n",
       "      <td>ANTI-0036</td>\n",
       "      <td>Forest</td>\n",
       "      <td>2018</td>\n",
       "      <td>2018-05-22</td>\n",
       "      <td>06:19:00</td>\n",
       "      <td>06:29:00</td>\n",
       "      <td>Elizabeth Oswald</td>\n",
       "      <td>1</td>\n",
       "      <td>0-2.5 min</td>\n",
       "      <td>Singing</td>\n",
       "      <td>&lt;= 50 Meters</td>\n",
       "      <td>False</td>\n",
       "      <td>Undetermined</td>\n",
       "      <td>Eastern Towhee</td>\n",
       "      <td>Pipilo erythrophthalmus</td>\n",
       "      <td>179276.0</td>\n",
       "      <td>83803.0</td>\n",
       "      <td>EATO</td>\n",
       "      <td>False</td>\n",
       "      <td>True</td>\n",
       "      <td>19.9</td>\n",
       "      <td>79.400002</td>\n",
       "      <td>Cloudy/Overcast</td>\n",
       "      <td>Calm (&lt; 1 mph) smoke rises vertically</td>\n",
       "      <td>No effect on count</td>\n",
       "      <td>True</td>\n",
       "      <td>5</td>\n",
       "      <td>spring</td>\n",
       "    </tr>\n",
       "    <tr>\n",
       "      <th>1</th>\n",
       "      <td>ANTI</td>\n",
       "      <td>ANTI-0036</td>\n",
       "      <td>Forest</td>\n",
       "      <td>2018</td>\n",
       "      <td>2018-05-22</td>\n",
       "      <td>06:19:00</td>\n",
       "      <td>06:29:00</td>\n",
       "      <td>Elizabeth Oswald</td>\n",
       "      <td>1</td>\n",
       "      <td>0-2.5 min</td>\n",
       "      <td>Calling</td>\n",
       "      <td>&lt;= 50 Meters</td>\n",
       "      <td>False</td>\n",
       "      <td>unknown</td>\n",
       "      <td>White-breasted Nuthatch</td>\n",
       "      <td>Sitta carolinensis</td>\n",
       "      <td>178775.0</td>\n",
       "      <td>90935.0</td>\n",
       "      <td>WBNU</td>\n",
       "      <td>False</td>\n",
       "      <td>False</td>\n",
       "      <td>19.9</td>\n",
       "      <td>79.400002</td>\n",
       "      <td>Cloudy/Overcast</td>\n",
       "      <td>Calm (&lt; 1 mph) smoke rises vertically</td>\n",
       "      <td>No effect on count</td>\n",
       "      <td>True</td>\n",
       "      <td>5</td>\n",
       "      <td>spring</td>\n",
       "    </tr>\n",
       "    <tr>\n",
       "      <th>2</th>\n",
       "      <td>ANTI</td>\n",
       "      <td>ANTI-0036</td>\n",
       "      <td>Forest</td>\n",
       "      <td>2018</td>\n",
       "      <td>2018-05-22</td>\n",
       "      <td>06:19:00</td>\n",
       "      <td>06:29:00</td>\n",
       "      <td>Elizabeth Oswald</td>\n",
       "      <td>1</td>\n",
       "      <td>2.5 - 5 min</td>\n",
       "      <td>Calling</td>\n",
       "      <td>50 - 100 Meters</td>\n",
       "      <td>False</td>\n",
       "      <td>unknown</td>\n",
       "      <td>Red-bellied Woodpecker</td>\n",
       "      <td>Melanerpes carolinus</td>\n",
       "      <td>178195.0</td>\n",
       "      <td>84865.0</td>\n",
       "      <td>RBWO</td>\n",
       "      <td>False</td>\n",
       "      <td>False</td>\n",
       "      <td>19.9</td>\n",
       "      <td>79.400002</td>\n",
       "      <td>Cloudy/Overcast</td>\n",
       "      <td>Calm (&lt; 1 mph) smoke rises vertically</td>\n",
       "      <td>No effect on count</td>\n",
       "      <td>False</td>\n",
       "      <td>5</td>\n",
       "      <td>spring</td>\n",
       "    </tr>\n",
       "    <tr>\n",
       "      <th>3</th>\n",
       "      <td>ANTI</td>\n",
       "      <td>ANTI-0036</td>\n",
       "      <td>Forest</td>\n",
       "      <td>2018</td>\n",
       "      <td>2018-05-22</td>\n",
       "      <td>06:19:00</td>\n",
       "      <td>06:29:00</td>\n",
       "      <td>Elizabeth Oswald</td>\n",
       "      <td>1</td>\n",
       "      <td>2.5 - 5 min</td>\n",
       "      <td>Singing</td>\n",
       "      <td>&lt;= 50 Meters</td>\n",
       "      <td>False</td>\n",
       "      <td>unknown</td>\n",
       "      <td>Orchard Oriole</td>\n",
       "      <td>Icterus spurius</td>\n",
       "      <td>179064.0</td>\n",
       "      <td>93634.0</td>\n",
       "      <td>OROR</td>\n",
       "      <td>False</td>\n",
       "      <td>False</td>\n",
       "      <td>19.9</td>\n",
       "      <td>79.400002</td>\n",
       "      <td>Cloudy/Overcast</td>\n",
       "      <td>Calm (&lt; 1 mph) smoke rises vertically</td>\n",
       "      <td>No effect on count</td>\n",
       "      <td>False</td>\n",
       "      <td>5</td>\n",
       "      <td>spring</td>\n",
       "    </tr>\n",
       "    <tr>\n",
       "      <th>4</th>\n",
       "      <td>ANTI</td>\n",
       "      <td>ANTI-0036</td>\n",
       "      <td>Forest</td>\n",
       "      <td>2018</td>\n",
       "      <td>2018-05-22</td>\n",
       "      <td>06:19:00</td>\n",
       "      <td>06:29:00</td>\n",
       "      <td>Elizabeth Oswald</td>\n",
       "      <td>1</td>\n",
       "      <td>2.5 - 5 min</td>\n",
       "      <td>Visualization</td>\n",
       "      <td>&lt;= 50 Meters</td>\n",
       "      <td>False</td>\n",
       "      <td>unknown</td>\n",
       "      <td>Northern Mockingbird</td>\n",
       "      <td>Mimus polyglottos</td>\n",
       "      <td>178620.0</td>\n",
       "      <td>88394.0</td>\n",
       "      <td>NOMO</td>\n",
       "      <td>False</td>\n",
       "      <td>False</td>\n",
       "      <td>19.9</td>\n",
       "      <td>79.400002</td>\n",
       "      <td>Cloudy/Overcast</td>\n",
       "      <td>Calm (&lt; 1 mph) smoke rises vertically</td>\n",
       "      <td>No effect on count</td>\n",
       "      <td>False</td>\n",
       "      <td>5</td>\n",
       "      <td>spring</td>\n",
       "    </tr>\n",
       "  </tbody>\n",
       "</table>\n",
       "</div>"
      ],
      "text/plain": [
       "  admin_unit_code  plot_name location_type  year       date start_time  \\\n",
       "0            ANTI  ANTI-0036        Forest  2018 2018-05-22   06:19:00   \n",
       "1            ANTI  ANTI-0036        Forest  2018 2018-05-22   06:19:00   \n",
       "2            ANTI  ANTI-0036        Forest  2018 2018-05-22   06:19:00   \n",
       "3            ANTI  ANTI-0036        Forest  2018 2018-05-22   06:19:00   \n",
       "4            ANTI  ANTI-0036        Forest  2018 2018-05-22   06:19:00   \n",
       "\n",
       "   end_time          observer  visit interval_length      id_method  \\\n",
       "0  06:29:00  Elizabeth Oswald      1       0-2.5 min        Singing   \n",
       "1  06:29:00  Elizabeth Oswald      1       0-2.5 min        Calling   \n",
       "2  06:29:00  Elizabeth Oswald      1     2.5 - 5 min        Calling   \n",
       "3  06:29:00  Elizabeth Oswald      1     2.5 - 5 min        Singing   \n",
       "4  06:29:00  Elizabeth Oswald      1     2.5 - 5 min  Visualization   \n",
       "\n",
       "          distance  flyover_observed           sex              common_name  \\\n",
       "0     <= 50 Meters             False  Undetermined           Eastern Towhee   \n",
       "1     <= 50 Meters             False       unknown  White-breasted Nuthatch   \n",
       "2  50 - 100 Meters             False       unknown   Red-bellied Woodpecker   \n",
       "3     <= 50 Meters             False       unknown           Orchard Oriole   \n",
       "4     <= 50 Meters             False       unknown     Northern Mockingbird   \n",
       "\n",
       "           scientific_name  acceptedtsn  taxoncode aou_code  \\\n",
       "0  Pipilo erythrophthalmus     179276.0    83803.0     EATO   \n",
       "1       Sitta carolinensis     178775.0    90935.0     WBNU   \n",
       "2     Melanerpes carolinus     178195.0    84865.0     RBWO   \n",
       "3          Icterus spurius     179064.0    93634.0     OROR   \n",
       "4        Mimus polyglottos     178620.0    88394.0     NOMO   \n",
       "\n",
       "   pif_watchlist_status  regional_stewardship_status  temperature   humidity  \\\n",
       "0                 False                         True         19.9  79.400002   \n",
       "1                 False                        False         19.9  79.400002   \n",
       "2                 False                        False         19.9  79.400002   \n",
       "3                 False                        False         19.9  79.400002   \n",
       "4                 False                        False         19.9  79.400002   \n",
       "\n",
       "               sky                                   wind         disturbance  \\\n",
       "0  Cloudy/Overcast  Calm (< 1 mph) smoke rises vertically  No effect on count   \n",
       "1  Cloudy/Overcast  Calm (< 1 mph) smoke rises vertically  No effect on count   \n",
       "2  Cloudy/Overcast  Calm (< 1 mph) smoke rises vertically  No effect on count   \n",
       "3  Cloudy/Overcast  Calm (< 1 mph) smoke rises vertically  No effect on count   \n",
       "4  Cloudy/Overcast  Calm (< 1 mph) smoke rises vertically  No effect on count   \n",
       "\n",
       "   initial_three_min_cnt  month  season  \n",
       "0                   True      5  spring  \n",
       "1                   True      5  spring  \n",
       "2                  False      5  spring  \n",
       "3                  False      5  spring  \n",
       "4                  False      5  spring  "
      ]
     },
     "execution_count": 78,
     "metadata": {},
     "output_type": "execute_result"
    }
   ],
   "source": [
    "final_cleaned_data.head()"
   ]
  },
  {
   "cell_type": "code",
   "execution_count": 79,
   "id": "419c5a8a",
   "metadata": {},
   "outputs": [],
   "source": [
    "final_cleaned_data.to_csv(\"cleaned_bird_data.csv\", index=False)"
   ]
  },
  {
   "cell_type": "code",
   "execution_count": 80,
   "id": "0266f2d9",
   "metadata": {},
   "outputs": [
    {
     "data": {
      "text/plain": [
       "Index(['admin_unit_code', 'plot_name', 'location_type', 'year', 'date',\n",
       "       'start_time', 'end_time', 'observer', 'visit', 'interval_length',\n",
       "       'id_method', 'distance', 'flyover_observed', 'sex', 'common_name',\n",
       "       'scientific_name', 'acceptedtsn', 'taxoncode', 'aou_code',\n",
       "       'pif_watchlist_status', 'regional_stewardship_status', 'temperature',\n",
       "       'humidity', 'sky', 'wind', 'disturbance', 'initial_three_min_cnt',\n",
       "       'month', 'season'],\n",
       "      dtype='object')"
      ]
     },
     "execution_count": 80,
     "metadata": {},
     "output_type": "execute_result"
    }
   ],
   "source": [
    "final_cleaned_data.columns"
   ]
  },
  {
   "cell_type": "code",
   "execution_count": 81,
   "id": "da26a43e",
   "metadata": {},
   "outputs": [],
   "source": [
    "import matplotlib.pyplot as plt\n",
    "import seaborn as sns"
   ]
  },
  {
   "cell_type": "code",
   "execution_count": 82,
   "metadata": {},
   "outputs": [
    {
     "data": {
      "image/png": "[encoded data removed]",
      "text/plain": [
       "<Figure size 1200x600 with 1 Axes>"
      ]
     },
     "metadata": {},
     "output_type": "display_data"
    }
   ],
   "source": [
    "yearly = final_cleaned_data.groupby([\"year\", \"location_type\"]).size().reset_index(name=\"observation_count\")\n",
    "\n",
    "plt.figure(figsize=(12, 6))\n",
    "sns.barplot(data=yearly, x=\"year\", y=\"observation_count\", hue=\"location_type\")\n",
    "plt.title(\"Bird Observations per Year by Location Type\")\n",
    "plt.xlabel(\"Year\")\n",
    "plt.ylabel(\"Observation Count\")\n",
    "plt.xticks(rotation=45)\n",
    "plt.legend(title=\"Location Type\")\n",
    "plt.tight_layout()\n",
    "plt.show()"
   ]
  },
  {
   "cell_type": "code",
   "execution_count": 83,
   "id": "95aac6bc",
   "metadata": {},
   "outputs": [
    {
     "ename": "NameError",
     "evalue": "name 'top_species' is not defined",
     "output_type": "error",
     "traceback": [
      "\u001b[1;31m---------------------------------------------------------------------------\u001b[0m",
      "\u001b[1;31mNameError\u001b[0m                                 Traceback (most recent call last)",
      "Cell \u001b[1;32mIn[83], line 2\u001b[0m\n\u001b[0;32m      1\u001b[0m plt\u001b[38;5;241m.\u001b[39mfigure(figsize\u001b[38;5;241m=\u001b[39m(\u001b[38;5;241m10\u001b[39m, \u001b[38;5;241m6\u001b[39m))\n\u001b[1;32m----> 2\u001b[0m sns\u001b[38;5;241m.\u001b[39mbarplot(data\u001b[38;5;241m=\u001b[39m\u001b[43mtop_species\u001b[49m, x\u001b[38;5;241m=\u001b[39m\u001b[38;5;124m\"\u001b[39m\u001b[38;5;124mcount\u001b[39m\u001b[38;5;124m\"\u001b[39m, y\u001b[38;5;241m=\u001b[39m\u001b[38;5;124m\"\u001b[39m\u001b[38;5;124mcommon_name\u001b[39m\u001b[38;5;124m\"\u001b[39m, hue\u001b[38;5;241m=\u001b[39m\u001b[38;5;124m\"\u001b[39m\u001b[38;5;124mcommon_name\u001b[39m\u001b[38;5;124m\"\u001b[39m, palette\u001b[38;5;241m=\u001b[39m\u001b[38;5;124m\"\u001b[39m\u001b[38;5;124mviridis\u001b[39m\u001b[38;5;124m\"\u001b[39m, dodge\u001b[38;5;241m=\u001b[39m\u001b[38;5;28;01mFalse\u001b[39;00m)\n\u001b[0;32m      3\u001b[0m plt\u001b[38;5;241m.\u001b[39mtitle(\u001b[38;5;124m\"\u001b[39m\u001b[38;5;124mTop 10 Most Observed Bird Species\u001b[39m\u001b[38;5;124m\"\u001b[39m)\n\u001b[0;32m      4\u001b[0m plt\u001b[38;5;241m.\u001b[39mxlabel(\u001b[38;5;124m\"\u001b[39m\u001b[38;5;124mObservation Count\u001b[39m\u001b[38;5;124m\"\u001b[39m)\n",
      "\u001b[1;31mNameError\u001b[0m: name 'top_species' is not defined"
     ]
    },
    {
     "data": {
      "text/plain": [
       "<Figure size 1000x600 with 0 Axes>"
      ]
     },
     "metadata": {},
     "output_type": "display_data"
    }
   ],
   "source": [
    "plt.figure(figsize=(10, 6))\n",
    "sns.barplot(data=top_species, x=\"count\", y=\"common_name\", hue=\"common_name\", palette=\"viridis\", dodge=False)\n",
    "plt.title(\"Top 10 Most Observed Bird Species\")\n",
    "plt.xlabel(\"Observation Count\")\n",
    "plt.ylabel(\"Common Name\")\n",
    "plt.legend([],[], frameon=False)  # Hides the legend\n",
    "plt.tight_layout()\n",
    "plt.show()"
   ]
  },
  {
   "cell_type": "code",
   "execution_count": null,
   "metadata": {},
   "outputs": [
    {
     "data": {
      "image/png": "[encoded data removed]",
      "text/plain": [
       "<Figure size 800x800 with 1 Axes>"
      ]
     },
     "metadata": {},
     "output_type": "display_data"
    }
   ],
   "source": [
    "season_counts = final_cleaned_data[\"season\"].value_counts().reset_index()\n",
    "season_counts.columns = [\"season\", \"observation_count\"]\n",
    "\n",
    "plt.figure(figsize=(8, 8))\n",
    "plt.pie(season_counts[\"observation_count\"], labels=season_counts[\"season\"], autopct='%1.1f%%', startangle=140)\n",
    "plt.title(\"Observations by Season\")\n",
    "plt.tight_layout()\n",
    "plt.show()"
   ]
  },
  {
   "cell_type": "code",
   "execution_count": null,
   "id": "77186a60",
   "metadata": {},
   "outputs": [
    {
     "data": {
      "image/png": "[encoded data removed]",
      "text/plain": [
       "<Figure size 1200x600 with 2 Axes>"
      ]
     },
     "metadata": {},
     "output_type": "display_data"
    }
   ],
   "source": [
    "# Make sure 'month' column exists and is numeric or categorical ordered correctly\n",
    "heatmap_month_year = final_cleaned_data.groupby([\"year\", \"month\"]).size().unstack(fill_value=0)\n",
    "\n",
    "plt.figure(figsize=(12, 6))\n",
    "sns.heatmap(heatmap_month_year, annot=True, fmt=\"d\", cmap=\"coolwarm\")\n",
    "plt.title(\"Bird Observations by Year and Month\")\n",
    "plt.xlabel(\"Month\")\n",
    "plt.ylabel(\"Year\")\n",
    "plt.tight_layout()\n",
    "plt.show()"
   ]
  },
  {
   "cell_type": "code",
   "execution_count": null,
   "id": "ebe0eeb4",
   "metadata": {},
   "outputs": [
    {
     "data": {
      "image/png": "[encoded data removed]",
      "text/plain": [
       "<Figure size 1000x600 with 2 Axes>"
      ]
     },
     "metadata": {},
     "output_type": "display_data"
    }
   ],
   "source": [
    "top_10_species = final_cleaned_data[\"common_name\"].value_counts().nlargest(10).index\n",
    "heat_data2 = final_cleaned_data[final_cleaned_data[\"common_name\"].isin(top_10_species)]\n",
    "heatmap_species_season = heat_data2.groupby([\"common_name\", \"season\"]).size().unstack(fill_value=0)\n",
    "\n",
    "plt.figure(figsize=(10, 6))\n",
    "sns.heatmap(heatmap_species_season, annot=True, fmt=\"d\", cmap=\"magma\")\n",
    "plt.title(\"Top 10 Bird Species Observed by Season\")\n",
    "plt.xlabel(\"Season\")\n",
    "plt.ylabel(\"Common Name\")\n",
    "plt.tight_layout()\n",
    "plt.show()"
   ]
  },
  {
   "cell_type": "code",
   "execution_count": null,
   "id": "87454720",
   "metadata": {},
   "outputs": [
    {
     "data": {
      "image/png": "[encoded data removed]",
      "text/plain": [
       "<Figure size 1000x600 with 2 Axes>"
      ]
     },
     "metadata": {},
     "output_type": "display_data"
    }
   ],
   "source": [
    "heat_data = final_cleaned_data.groupby([\"year\", \"location_type\"]).size().unstack(fill_value=0)\n",
    "\n",
    "plt.figure(figsize=(10, 6))\n",
    "sns.heatmap(heat_data, annot=True, fmt=\"d\", cmap=\"YlGnBu\")\n",
    "plt.title(\"Bird Observations by Year and Location Type\")\n",
    "plt.xlabel(\"Location Type\")\n",
    "plt.ylabel(\"Year\")\n",
    "plt.tight_layout()\n",
    "plt.show()"
   ]
  },
  {
   "cell_type": "code",
   "execution_count": 84,
   "id": "5de2e1e8",
   "metadata": {},
   "outputs": [
    {
     "data": {
      "text/html": [
       "<div>\n",
       "<style scoped>\n",
       "    .dataframe tbody tr th:only-of-type {\n",
       "        vertical-align: middle;\n",
       "    }\n",
       "\n",
       "    .dataframe tbody tr th {\n",
       "        vertical-align: top;\n",
       "    }\n",
       "\n",
       "    .dataframe thead th {\n",
       "        text-align: right;\n",
       "    }\n",
       "</style>\n",
       "<table border=\"1\" class=\"dataframe\">\n",
       "  <thead>\n",
       "    <tr style=\"text-align: right;\">\n",
       "      <th></th>\n",
       "      <th>admin_unit_code</th>\n",
       "      <th>plot_name</th>\n",
       "      <th>location_type</th>\n",
       "      <th>year</th>\n",
       "      <th>date</th>\n",
       "      <th>start_time</th>\n",
       "      <th>end_time</th>\n",
       "      <th>observer</th>\n",
       "      <th>visit</th>\n",
       "      <th>interval_length</th>\n",
       "      <th>id_method</th>\n",
       "      <th>distance</th>\n",
       "      <th>flyover_observed</th>\n",
       "      <th>sex</th>\n",
       "      <th>common_name</th>\n",
       "      <th>scientific_name</th>\n",
       "      <th>acceptedtsn</th>\n",
       "      <th>taxoncode</th>\n",
       "      <th>aou_code</th>\n",
       "      <th>pif_watchlist_status</th>\n",
       "      <th>regional_stewardship_status</th>\n",
       "      <th>temperature</th>\n",
       "      <th>humidity</th>\n",
       "      <th>sky</th>\n",
       "      <th>wind</th>\n",
       "      <th>disturbance</th>\n",
       "      <th>initial_three_min_cnt</th>\n",
       "      <th>month</th>\n",
       "      <th>season</th>\n",
       "    </tr>\n",
       "  </thead>\n",
       "  <tbody>\n",
       "    <tr>\n",
       "      <th>0</th>\n",
       "      <td>ANTI</td>\n",
       "      <td>ANTI-0036</td>\n",
       "      <td>Forest</td>\n",
       "      <td>2018</td>\n",
       "      <td>2018-05-22</td>\n",
       "      <td>06:19:00</td>\n",
       "      <td>06:29:00</td>\n",
       "      <td>Elizabeth Oswald</td>\n",
       "      <td>1</td>\n",
       "      <td>0-2.5 min</td>\n",
       "      <td>Singing</td>\n",
       "      <td>&lt;= 50 Meters</td>\n",
       "      <td>False</td>\n",
       "      <td>Undetermined</td>\n",
       "      <td>Eastern Towhee</td>\n",
       "      <td>Pipilo erythrophthalmus</td>\n",
       "      <td>179276.0</td>\n",
       "      <td>83803.0</td>\n",
       "      <td>EATO</td>\n",
       "      <td>False</td>\n",
       "      <td>True</td>\n",
       "      <td>19.9</td>\n",
       "      <td>79.400002</td>\n",
       "      <td>Cloudy/Overcast</td>\n",
       "      <td>Calm (&lt; 1 mph) smoke rises vertically</td>\n",
       "      <td>No effect on count</td>\n",
       "      <td>True</td>\n",
       "      <td>5</td>\n",
       "      <td>spring</td>\n",
       "    </tr>\n",
       "    <tr>\n",
       "      <th>1</th>\n",
       "      <td>ANTI</td>\n",
       "      <td>ANTI-0036</td>\n",
       "      <td>Forest</td>\n",
       "      <td>2018</td>\n",
       "      <td>2018-05-22</td>\n",
       "      <td>06:19:00</td>\n",
       "      <td>06:29:00</td>\n",
       "      <td>Elizabeth Oswald</td>\n",
       "      <td>1</td>\n",
       "      <td>0-2.5 min</td>\n",
       "      <td>Calling</td>\n",
       "      <td>&lt;= 50 Meters</td>\n",
       "      <td>False</td>\n",
       "      <td>unknown</td>\n",
       "      <td>White-breasted Nuthatch</td>\n",
       "      <td>Sitta carolinensis</td>\n",
       "      <td>178775.0</td>\n",
       "      <td>90935.0</td>\n",
       "      <td>WBNU</td>\n",
       "      <td>False</td>\n",
       "      <td>False</td>\n",
       "      <td>19.9</td>\n",
       "      <td>79.400002</td>\n",
       "      <td>Cloudy/Overcast</td>\n",
       "      <td>Calm (&lt; 1 mph) smoke rises vertically</td>\n",
       "      <td>No effect on count</td>\n",
       "      <td>True</td>\n",
       "      <td>5</td>\n",
       "      <td>spring</td>\n",
       "    </tr>\n",
       "    <tr>\n",
       "      <th>2</th>\n",
       "      <td>ANTI</td>\n",
       "      <td>ANTI-0036</td>\n",
       "      <td>Forest</td>\n",
       "      <td>2018</td>\n",
       "      <td>2018-05-22</td>\n",
       "      <td>06:19:00</td>\n",
       "      <td>06:29:00</td>\n",
       "      <td>Elizabeth Oswald</td>\n",
       "      <td>1</td>\n",
       "      <td>2.5 - 5 min</td>\n",
       "      <td>Calling</td>\n",
       "      <td>50 - 100 Meters</td>\n",
       "      <td>False</td>\n",
       "      <td>unknown</td>\n",
       "      <td>Red-bellied Woodpecker</td>\n",
       "      <td>Melanerpes carolinus</td>\n",
       "      <td>178195.0</td>\n",
       "      <td>84865.0</td>\n",
       "      <td>RBWO</td>\n",
       "      <td>False</td>\n",
       "      <td>False</td>\n",
       "      <td>19.9</td>\n",
       "      <td>79.400002</td>\n",
       "      <td>Cloudy/Overcast</td>\n",
       "      <td>Calm (&lt; 1 mph) smoke rises vertically</td>\n",
       "      <td>No effect on count</td>\n",
       "      <td>False</td>\n",
       "      <td>5</td>\n",
       "      <td>spring</td>\n",
       "    </tr>\n",
       "    <tr>\n",
       "      <th>3</th>\n",
       "      <td>ANTI</td>\n",
       "      <td>ANTI-0036</td>\n",
       "      <td>Forest</td>\n",
       "      <td>2018</td>\n",
       "      <td>2018-05-22</td>\n",
       "      <td>06:19:00</td>\n",
       "      <td>06:29:00</td>\n",
       "      <td>Elizabeth Oswald</td>\n",
       "      <td>1</td>\n",
       "      <td>2.5 - 5 min</td>\n",
       "      <td>Singing</td>\n",
       "      <td>&lt;= 50 Meters</td>\n",
       "      <td>False</td>\n",
       "      <td>unknown</td>\n",
       "      <td>Orchard Oriole</td>\n",
       "      <td>Icterus spurius</td>\n",
       "      <td>179064.0</td>\n",
       "      <td>93634.0</td>\n",
       "      <td>OROR</td>\n",
       "      <td>False</td>\n",
       "      <td>False</td>\n",
       "      <td>19.9</td>\n",
       "      <td>79.400002</td>\n",
       "      <td>Cloudy/Overcast</td>\n",
       "      <td>Calm (&lt; 1 mph) smoke rises vertically</td>\n",
       "      <td>No effect on count</td>\n",
       "      <td>False</td>\n",
       "      <td>5</td>\n",
       "      <td>spring</td>\n",
       "    </tr>\n",
       "    <tr>\n",
       "      <th>4</th>\n",
       "      <td>ANTI</td>\n",
       "      <td>ANTI-0036</td>\n",
       "      <td>Forest</td>\n",
       "      <td>2018</td>\n",
       "      <td>2018-05-22</td>\n",
       "      <td>06:19:00</td>\n",
       "      <td>06:29:00</td>\n",
       "      <td>Elizabeth Oswald</td>\n",
       "      <td>1</td>\n",
       "      <td>2.5 - 5 min</td>\n",
       "      <td>Visualization</td>\n",
       "      <td>&lt;= 50 Meters</td>\n",
       "      <td>False</td>\n",
       "      <td>unknown</td>\n",
       "      <td>Northern Mockingbird</td>\n",
       "      <td>Mimus polyglottos</td>\n",
       "      <td>178620.0</td>\n",
       "      <td>88394.0</td>\n",
       "      <td>NOMO</td>\n",
       "      <td>False</td>\n",
       "      <td>False</td>\n",
       "      <td>19.9</td>\n",
       "      <td>79.400002</td>\n",
       "      <td>Cloudy/Overcast</td>\n",
       "      <td>Calm (&lt; 1 mph) smoke rises vertically</td>\n",
       "      <td>No effect on count</td>\n",
       "      <td>False</td>\n",
       "      <td>5</td>\n",
       "      <td>spring</td>\n",
       "    </tr>\n",
       "  </tbody>\n",
       "</table>\n",
       "</div>"
      ],
      "text/plain": [
       "  admin_unit_code  plot_name location_type  year        date start_time  \\\n",
       "0            ANTI  ANTI-0036        Forest  2018  2018-05-22   06:19:00   \n",
       "1            ANTI  ANTI-0036        Forest  2018  2018-05-22   06:19:00   \n",
       "2            ANTI  ANTI-0036        Forest  2018  2018-05-22   06:19:00   \n",
       "3            ANTI  ANTI-0036        Forest  2018  2018-05-22   06:19:00   \n",
       "4            ANTI  ANTI-0036        Forest  2018  2018-05-22   06:19:00   \n",
       "\n",
       "   end_time          observer  visit interval_length      id_method  \\\n",
       "0  06:29:00  Elizabeth Oswald      1       0-2.5 min        Singing   \n",
       "1  06:29:00  Elizabeth Oswald      1       0-2.5 min        Calling   \n",
       "2  06:29:00  Elizabeth Oswald      1     2.5 - 5 min        Calling   \n",
       "3  06:29:00  Elizabeth Oswald      1     2.5 - 5 min        Singing   \n",
       "4  06:29:00  Elizabeth Oswald      1     2.5 - 5 min  Visualization   \n",
       "\n",
       "          distance  flyover_observed           sex              common_name  \\\n",
       "0     <= 50 Meters             False  Undetermined           Eastern Towhee   \n",
       "1     <= 50 Meters             False       unknown  White-breasted Nuthatch   \n",
       "2  50 - 100 Meters             False       unknown   Red-bellied Woodpecker   \n",
       "3     <= 50 Meters             False       unknown           Orchard Oriole   \n",
       "4     <= 50 Meters             False       unknown     Northern Mockingbird   \n",
       "\n",
       "           scientific_name  acceptedtsn  taxoncode aou_code  \\\n",
       "0  Pipilo erythrophthalmus     179276.0    83803.0     EATO   \n",
       "1       Sitta carolinensis     178775.0    90935.0     WBNU   \n",
       "2     Melanerpes carolinus     178195.0    84865.0     RBWO   \n",
       "3          Icterus spurius     179064.0    93634.0     OROR   \n",
       "4        Mimus polyglottos     178620.0    88394.0     NOMO   \n",
       "\n",
       "   pif_watchlist_status  regional_stewardship_status  temperature   humidity  \\\n",
       "0                 False                         True         19.9  79.400002   \n",
       "1                 False                        False         19.9  79.400002   \n",
       "2                 False                        False         19.9  79.400002   \n",
       "3                 False                        False         19.9  79.400002   \n",
       "4                 False                        False         19.9  79.400002   \n",
       "\n",
       "               sky                                   wind         disturbance  \\\n",
       "0  Cloudy/Overcast  Calm (< 1 mph) smoke rises vertically  No effect on count   \n",
       "1  Cloudy/Overcast  Calm (< 1 mph) smoke rises vertically  No effect on count   \n",
       "2  Cloudy/Overcast  Calm (< 1 mph) smoke rises vertically  No effect on count   \n",
       "3  Cloudy/Overcast  Calm (< 1 mph) smoke rises vertically  No effect on count   \n",
       "4  Cloudy/Overcast  Calm (< 1 mph) smoke rises vertically  No effect on count   \n",
       "\n",
       "   initial_three_min_cnt  month  season  \n",
       "0                   True      5  spring  \n",
       "1                   True      5  spring  \n",
       "2                  False      5  spring  \n",
       "3                  False      5  spring  \n",
       "4                  False      5  spring  "
      ]
     },
     "execution_count": 84,
     "metadata": {},
     "output_type": "execute_result"
    }
   ],
   "source": [
    "import pandas as pd\n",
    "db = pd.read_csv(r\"D:\\Project_Bird_Species_Observation\\Data\\cleaned_bird_data.csv\")\n",
    "db.head()"
   ]
  },
  {
   "cell_type": "code",
   "execution_count": 85,
   "id": "5015e73a",
   "metadata": {},
   "outputs": [
    {
     "data": {
      "text/plain": [
       "(15342, 29)"
      ]
     },
     "execution_count": 85,
     "metadata": {},
     "output_type": "execute_result"
    }
   ],
   "source": [
    "db.shape"
   ]
  },
  {
   "cell_type": "code",
   "execution_count": 88,
   "id": "009af1d0",
   "metadata": {},
   "outputs": [
    {
     "data": {
      "text/plain": [
       "['admin_unit_code',\n",
       " 'plot_name',\n",
       " 'location_type',\n",
       " 'year',\n",
       " 'date',\n",
       " 'start_time',\n",
       " 'end_time',\n",
       " 'observer',\n",
       " 'visit',\n",
       " 'interval_length',\n",
       " 'id_method',\n",
       " 'distance',\n",
       " 'flyover_observed',\n",
       " 'sex',\n",
       " 'common_name',\n",
       " 'scientific_name',\n",
       " 'acceptedtsn',\n",
       " 'taxoncode',\n",
       " 'aou_code',\n",
       " 'pif_watchlist_status',\n",
       " 'regional_stewardship_status',\n",
       " 'temperature',\n",
       " 'humidity',\n",
       " 'sky',\n",
       " 'wind',\n",
       " 'disturbance',\n",
       " 'initial_three_min_cnt',\n",
       " 'month',\n",
       " 'season']"
      ]
     },
     "execution_count": 88,
     "metadata": {},
     "output_type": "execute_result"
    }
   ],
   "source": [
    "db.columns.tolist()"
   ]
  },
  {
   "cell_type": "code",
   "execution_count": 89,
   "id": "5ba5a8ea",
   "metadata": {},
   "outputs": [
    {
     "data": {
      "text/plain": [
       "admin_unit_code                 object\n",
       "plot_name                       object\n",
       "location_type                   object\n",
       "year                             int64\n",
       "date                            object\n",
       "start_time                      object\n",
       "end_time                        object\n",
       "observer                        object\n",
       "visit                            int64\n",
       "interval_length                 object\n",
       "id_method                       object\n",
       "distance                        object\n",
       "flyover_observed                  bool\n",
       "sex                             object\n",
       "common_name                     object\n",
       "scientific_name                 object\n",
       "acceptedtsn                    float64\n",
       "taxoncode                      float64\n",
       "aou_code                        object\n",
       "pif_watchlist_status              bool\n",
       "regional_stewardship_status       bool\n",
       "temperature                    float64\n",
       "humidity                       float64\n",
       "sky                             object\n",
       "wind                            object\n",
       "disturbance                     object\n",
       "initial_three_min_cnt             bool\n",
       "month                            int64\n",
       "season                          object\n",
       "dtype: object"
      ]
     },
     "execution_count": 89,
     "metadata": {},
     "output_type": "execute_result"
    }
   ],
   "source": [
    "db.dtypes"
   ]
  },
  {
   "cell_type": "code",
   "execution_count": null,
   "id": "36f71129",
   "metadata": {},
   "outputs": [],
   "source": [
    "import mysql.connector\n",
    "\n",
    "# Establish connection to MySQL (without specifying database)\n",
    "conn = mysql.connector.connect(\n",
    "    host=\"localhost\",\n",
    "    user=\"root\",\n",
    "    password=\"240996\"\n",
    ")\n",
    "\n",
    "cursor = conn.cursor()\n",
    "\n",
    "# Drop database for re-experiment\n",
    "cursor.execute(\"DROP DATABASE IF EXISTS Birds\")\n",
    "\n",
    "# Create Database (if not exists)\n",
    "cursor.execute(\"CREATE DATABASE IF NOT EXISTS Birds\")\n",
    "\n"
   ]
  },
  {
   "cell_type": "code",
   "execution_count": null,
   "id": "69cc453b",
   "metadata": {},
   "outputs": [],
   "source": [
    "# Select the newly created database\n",
    "cursor.execute(\"USE Birds\")\n"
   ]
  },
  {
   "cell_type": "code",
   "execution_count": null,
   "id": "b8374633",
   "metadata": {},
   "outputs": [],
   "source": [
    "# Table creation\n",
    "cursor.execute(\"\"\"\n",
    "CREATE TABLE IF NOT EXISTS bird_data (\n",
    "    admin_unit_code VARCHAR(50),\n",
    "    plot_name VARCHAR(100),\n",
    "    location_type VARCHAR(50),\n",
    "    year INT,\n",
    "    date DATE,\n",
    "    start_time VARCHAR(20),\n",
    "    end_time VARCHAR(20),\n",
    "    observer VARCHAR(100),\n",
    "    visit INT,\n",
    "    interval_length VARCHAR(20),\n",
    "    id_method VARCHAR(100),\n",
    "    distance VARCHAR(50),\n",
    "    flyover_observed BOOLEAN,\n",
    "    sex VARCHAR(20),\n",
    "    common_name VARCHAR(100),\n",
    "    scientific_name VARCHAR(100),\n",
    "    acceptedtsn DOUBLE,\n",
    "    taxoncode DOUBLE,\n",
    "    aou_code VARCHAR(50),\n",
    "    pif_watchlist_status BOOLEAN,\n",
    "    regional_stewardship_status BOOLEAN,\n",
    "    temperature FLOAT,\n",
    "    humidity FLOAT,\n",
    "    sky VARCHAR(50),\n",
    "    wind VARCHAR(50),\n",
    "    disturbance VARCHAR(100),\n",
    "    initial_three_min_cnt BOOLEAN,\n",
    "    month INT,\n",
    "    season VARCHAR(50)\n",
    ")\n",
    "\"\"\")\n"
   ]
  },
  {
   "cell_type": "code",
   "execution_count": null,
   "id": "d3ca82bb",
   "metadata": {},
   "outputs": [],
   "source": [
    "# Prepare insert query\n",
    "insert_query = \"\"\"\n",
    "INSERT INTO bird_data (\n",
    "    admin_unit_code, plot_name, location_type, year, date, start_time, end_time,\n",
    "    observer, visit, interval_length, id_method, distance, flyover_observed,\n",
    "    sex, common_name, scientific_name, acceptedtsn, taxoncode, aou_code,\n",
    "    pif_watchlist_status, regional_stewardship_status, temperature, humidity,\n",
    "    sky, wind, disturbance, initial_three_min_cnt, month, season\n",
    ") VALUES (%s, %s, %s, %s, %s, %s, %s, %s, %s, %s, %s, %s, %s, %s, %s, %s, %s, %s, %s, %s, %s, %s, %s, %s, %s, %s, %s, %s, %s)\n",
    "\"\"\"\n",
    "\n",
    "# Insert each row into the table\n",
    "for _, row in db.iterrows():\n",
    "    cursor.execute(insert_query, tuple(row))"
   ]
  },
  {
   "cell_type": "code",
   "execution_count": 94,
   "id": "eda009df",
   "metadata": {},
   "outputs": [],
   "source": [
    "conn.commit()\n",
    "cursor.close()\n",
    "conn.close()"
   ]
  }
 ],
 "metadata": {
  "kernelspec": {
   "display_name": "Python 3",
   "language": "python",
   "name": "python3"
  },
  "language_info": {
   "codemirror_mode": {
    "name": "ipython",
    "version": 3
   },
   "file_extension": ".py",
   "mimetype": "text/x-python",
   "name": "python",
   "nbconvert_exporter": "python",
   "pygments_lexer": "ipython3",
   "version": "3.13.1"
  }
 },
 "nbformat": 4,
 "nbformat_minor": 5
}
